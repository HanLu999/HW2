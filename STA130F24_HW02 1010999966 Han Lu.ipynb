{
 "cells": [
  {
   "cell_type": "markdown",
   "id": "d4fcfa63",
   "metadata": {},
   "source": [
    "#### 1. Begin (or restart) part \"3(a)\" of the **TUT Demo** and interact with a ChatBot to make sure you understand how each part the Monte Hall problem code above works<br>"
   ]
  },
  {
   "cell_type": "markdown",
   "id": "e48d1cf7",
   "metadata": {},
   "source": [
    "It effectively conveys the spirit of the issue and faithfully replicates the game. Here's a quick rundown of how it functions and some recommendations for enhancements:\n",
    "\n",
    "A description of the code\n",
    "Setup: You specify the doors and set the starting points for victories and reps.\n",
    "    \n",
    "Simulation of a Game:\n",
    "A winning door is chosen at random.\n",
    "The door that the player has selected is identified.\n",
    "It is disclosed which non-winning door isn't the player's choice.\n",
    "Next, the player switches to the last door that is open.\n",
    "\n",
    "Win Condition: You increase the win count if the final selection corresponds to the winning door.\n",
    "    \n",
    "Recommendations for Improvement: Preventing Exceptions: Before attempting to delete a door, think about first seeing if it's on the list rather than utilizing try...except.\n",
    "Further Clear Structure: To make the simulation logic more modular, you might define functions to divide it from the main loop.\n",
    "    \n",
    "Parameterization: To provide versatility, set parameters such as the number of doors or player strategies (stick vs. swap)."
   ]
  },
  {
   "cell_type": "markdown",
   "id": "63afc092",
   "metadata": {},
   "source": [
    "#### 2. Extend your ChatBot sessions to now address part \"3(b)\" of the **TUT Demo** and interact with your ChatBot to see if it can suggest a simpler, more streamlined way to code up this *for* loop simulation so the process is more clear and easier to understand; then, describe any preferences you have in terms of readibility or explainability  between the original code and the code improvements suggested by the ChatBot<br>"
   ]
  },
  {
   "cell_type": "code",
   "execution_count": 11,
   "id": "178a8bbe",
   "metadata": {},
   "outputs": [
    {
     "ename": "IndexError",
     "evalue": "list index out of range",
     "output_type": "error",
     "traceback": [
      "\u001b[0;31m---------------------------------------------------------------------------\u001b[0m",
      "\u001b[0;31mIndexError\u001b[0m                                Traceback (most recent call last)",
      "Cell \u001b[0;32mIn[11], line 32\u001b[0m\n\u001b[1;32m     29\u001b[0m     \u001b[38;5;28;01mreturn\u001b[39;00m wins \u001b[38;5;241m/\u001b[39m reps\n\u001b[1;32m     31\u001b[0m \u001b[38;5;66;03m# Run the simulation\u001b[39;00m\n\u001b[0;32m---> 32\u001b[0m win_probability \u001b[38;5;241m=\u001b[39m \u001b[43msimulate_monty_hall\u001b[49m\u001b[43m(\u001b[49m\u001b[43m)\u001b[49m\n\u001b[1;32m     33\u001b[0m \u001b[38;5;28mprint\u001b[39m(\u001b[38;5;124m\"\u001b[39m\u001b[38;5;124mWin probability by switching:\u001b[39m\u001b[38;5;124m\"\u001b[39m, win_probability)\n",
      "Cell \u001b[0;32mIn[11], line 23\u001b[0m, in \u001b[0;36msimulate_monty_hall\u001b[0;34m(reps, initial_choice)\u001b[0m\n\u001b[1;32m     20\u001b[0m remaining_doors\u001b[38;5;241m.\u001b[39mremove(goat_door_reveal)\n\u001b[1;32m     22\u001b[0m \u001b[38;5;66;03m# The only door left is the one to swap to\u001b[39;00m\n\u001b[0;32m---> 23\u001b[0m final_choice \u001b[38;5;241m=\u001b[39m \u001b[43mremaining_doors\u001b[49m\u001b[43m[\u001b[49m\u001b[38;5;241;43m0\u001b[39;49m\u001b[43m]\u001b[49m\n\u001b[1;32m     25\u001b[0m \u001b[38;5;66;03m# Check if the final choice is the winning door\u001b[39;00m\n\u001b[1;32m     26\u001b[0m \u001b[38;5;28;01mif\u001b[39;00m final_choice \u001b[38;5;241m==\u001b[39m secret_winning_door:\n",
      "\u001b[0;31mIndexError\u001b[0m: list index out of range"
     ]
    }
   ],
   "source": [
    "import numpy as np\n",
    "\n",
    "def simulate_monty_hall(reps=100000, initial_choice=1):\n",
    "    all_door_options = [1, 2, 3]  # list for easier manipulation\n",
    "    wins = 0\n",
    "\n",
    "    for _ in range(reps):\n",
    "        # Randomly select the winning door\n",
    "        secret_winning_door = np.random.choice(all_door_options)\n",
    "        \n",
    "        # Remove the winning door from the choices\n",
    "        remaining_doors = [door for door in all_door_options if door != secret_winning_door]\n",
    "        \n",
    "        # Remove the player's choice from the remaining doors (if it's not the winning door)\n",
    "        if initial_choice in remaining_doors:\n",
    "            remaining_doors.remove(initial_choice)\n",
    "\n",
    "        # Reveal a goat door\n",
    "        goat_door_reveal = np.random.choice(remaining_doors)\n",
    "        remaining_doors.remove(goat_door_reveal)\n",
    "\n",
    "        # The only door left is the one to swap to\n",
    "        final_choice = remaining_doors[0]\n",
    "\n",
    "        # Check if the final choice is the winning door\n",
    "        if final_choice == secret_winning_door:\n",
    "            wins += 1\n",
    "\n",
    "    return wins / reps\n",
    "\n",
    "# Run the simulation\n",
    "win_probability = simulate_monty_hall()\n",
    "print(\"Win probability by switching:\", win_probability)"
   ]
  },
  {
   "cell_type": "code",
   "execution_count": 3,
   "id": "387b09ca",
   "metadata": {},
   "outputs": [
    {
     "name": "stdout",
     "output_type": "stream",
     "text": [
      "Win probability by switching: 0.66617\n"
     ]
    }
   ],
   "source": [
    "import numpy as np\n",
    "\n",
    "def simulate_monty_hall(reps=100000, initial_choice=1):\n",
    "    all_door_options = [1, 2, 3]  # Use a list for easier manipulation\n",
    "    wins = 0\n",
    "\n",
    "    for _ in range(reps):\n",
    "        # Randomly select the winning door\n",
    "        winning_door = np.random.choice(all_door_options)\n",
    "\n",
    "        # Create a list of remaining doors excluding the winning door\n",
    "        remaining_doors = [door for door in all_door_options if door != winning_door]\n",
    "        if initial_choice in remaining_doors:\n",
    "            remaining_doors.remove(initial_choice)\n",
    "\n",
    "        # Randomly reveal a goat door\n",
    "        revealed_goat_door = np.random.choice(remaining_doors)\n",
    "\n",
    "        # The remaining door is the one to swap to\n",
    "        final_choice = next(door for door in all_door_options if door not in [initial_choice, revealed_goat_door])\n",
    "\n",
    "        # Check if the final choice is the winning door\n",
    "        if final_choice == winning_door:\n",
    "            wins += 1\n",
    "\n",
    "        # Update the choice to the final choice for the next iteration\n",
    "        initial_choice = final_choice\n",
    "\n",
    "    return wins / reps\n",
    "\n",
    "# Run the simulation\n",
    "win_probability = simulate_monty_hall()\n",
    "print(\"Win probability by switching:\", win_probability)\n"
   ]
  },
  {
   "cell_type": "markdown",
   "id": "a48926bc",
   "metadata": {},
   "source": [
    "#### 3. Submit your preferred version of the Monty Hall problem that is verified to be running and working with a final printed output of the code; then, add code comments explaining the purpose of each line of the code<br>"
   ]
  },
  {
   "cell_type": "code",
   "execution_count": 5,
   "id": "be151719",
   "metadata": {},
   "outputs": [
    {
     "name": "stdout",
     "output_type": "stream",
     "text": [
      "Win probability by switching: 0.6665\n"
     ]
    }
   ],
   "source": [
    "import numpy as np#Imports the NumPy library, which is commonly used for numerical computations and generating random numbers.\n",
    "\n",
    "def simulate_monty_hall(reps=100000, initial_choice=1):#Defines a function called simulate_monty_hall that takes two parameters: reps (the number of simulations to run, defaulting to 100,000) and initial_choice (the player's initial choice of door, defaulting to 1)\n",
    "    all_door_options = [1, 2, 3]  # Use a list for easier manipulation\n",
    "    wins = 0#Initializes a counter wins to record the number of times the player wins.\n",
    "\n",
    "    for _ in range(reps):#Starts a loop that runs reps times (i.e., the total number of simulations).\n",
    "        # Randomly select the winning door\n",
    "        winning_door = np.random.choice(all_door_options)\n",
    "        # Create a list of remaining doors excluding the winning door\n",
    "        remaining_doors = [door for door in all_door_options if door != winning_door]\n",
    "        if initial_choice in remaining_doors:\n",
    "            remaining_doors.remove(initial_choice)#If the player's initial choice is among the remaining doors, it removes that choice from the list.\n",
    "\n",
    "        # Randomly reveal a goat door\n",
    "        revealed_goat_door = np.random.choice(remaining_doors)\n",
    "\n",
    "        # The remaining door is the one to swap to\n",
    "        final_choice = next(door for door in all_door_options if door not in [initial_choice, revealed_goat_door])\n",
    "\n",
    "        # Check if the final choice is the winning door\n",
    "        if final_choice == winning_door:\n",
    "            wins += 1\n",
    "\n",
    "        # Update the choice to the final choice for the next iteration\n",
    "        initial_choice = final_choice\n",
    "\n",
    "    return wins / reps\n",
    "\n",
    "# Run the simulation\n",
    "win_probability = simulate_monty_hall()\n",
    "print(\"Win probability by switching:\", win_probability)"
   ]
  },
  {
   "cell_type": "markdown",
   "id": "37be5f23",
   "metadata": {},
   "source": [
    "#### 4. Watch the embedded video tutorial on Markov chains in the next Jupyter cell below to understand their application and relevance for ChatBots; then, after watching the video, start a new ChatBot session by prompting that you have code that creates a \"Markovian ChatBot\"; show it the first version of the \"Markovian ChatBot code\" below; and interact with the ChatBot session to make sure you understand how the original first version of the \"Markovian ChatBot code\" works<br>"
   ]
  },
  {
   "cell_type": "markdown",
   "id": "6cf82b76",
   "metadata": {},
   "source": [
    "Explanation of the Code\n",
    "Data Structures:\n",
    "\n",
    "word_used: A dictionary to count occurrences of each word.\n",
    "next_word: A nested dictionary where each word maps to another dictionary that counts occurrences of words that follow it.\n",
    "Building the Model:\n",
    "\n",
    "The loop iterates through a list of words (presumably from a corpus).\n",
    "For each word, it increments its count in word_used.\n",
    "It also updates next_word to track how often each word is followed by the next word.\n",
    "Suggestions for Completing the Chatbot\n",
    "Generate Responses:\n",
    "\n",
    "You could implement a function that takes a word and uses the next_word dictionary to randomly choose the next word based on their frequencies.\n",
    "Start a Conversation:\n",
    "\n",
    "Allow the user to input a starting word, and then generate a sequence of words based on the Markov model.\n",
    "Handle Edge Cases:\n",
    "\n",
    "Ensure the model can handle cases where there are no valid next words or when the input word doesn’t exist in the dictionary.\n",
    "User Interface:\n",
    "\n",
    "Consider how users will interact with the chatbot. You might want to implement a simple command-line interface or a GUI."
   ]
  },
  {
   "cell_type": "markdown",
   "id": "406caba6",
   "metadata": {},
   "source": [
    "#### 5. Recreate (or resume) the previous ChatBot session from question \"4\" above, and now  prompt the ChatBot session that you have a couple extensions of the code to show it, and then show it each of the extentions of the \"Markovian ChatBot code\" below in turn"
   ]
  },
  {
   "cell_type": "markdown",
   "id": "98b2d861",
   "metadata": {},
   "source": [
    "Initial Version\n",
    "Focus: Tracks single words and their successors.\n",
    "Data Structures:\n",
    "word_used: Counts occurrences of each word.\n",
    "next_word: Maps each word to its following words.\n",
    "Extension #1\n",
    "Enhancement: Introduces two-word context (bigrams).\n",
    "Data Structures:\n",
    "word_used2: Counts occurrences of bigrams.\n",
    "next_word2: Maps bigrams to their successors.\n",
    "Extension #2\n",
    "Character Context: Integrates character-specific data.\n",
    "Nested Dictionaries:\n",
    "word_used2C: Counts occurrences of bigrams by character.\n",
    "next_word2C: Maps character-specific bigrams to their successors.\n",
    "Suggestions for Further Development\n",
    "Response Generation: Create functions to generate responses based on character context.\n",
    "Edge Case Handling: Ensure robustness when there are no valid next words.\n",
    "User Interaction: Develop a simple interface for character selection and conversation initiation.\n",
    "Randomness: Introduce variability in responses for a more engaging interaction."
   ]
  },
  {
   "cell_type": "markdown",
   "id": "7f540b90",
   "metadata": {},
   "source": [
    "#### 6. Report on your experience interacting with ChatBots to understand the Monte Hall problem and \"Markovian ChatBot\" code"
   ]
  },
  {
   "cell_type": "markdown",
   "id": "187e213a",
   "metadata": {},
   "source": [
    "1. Discuss how quickly the ChatBot was able to be helpful for each of the above questions, and if so, how?"
   ]
  },
  {
   "cell_type": "markdown",
   "id": "359c6819",
   "metadata": {},
   "source": [
    "Chatbot was able to explain the pros and cons of the code which is needeed to be improved for the second question. Also, the Chatbot are able to change between Chinese and English which is able for me to learn the theme more convinient."
   ]
  },
  {
   "cell_type": "markdown",
   "id": "6cfc5b69",
   "metadata": {},
   "source": [
    "2. Discuss whether or not interacting with ChatBot to try to figure things out was frustrating or unhelpful, and if so, how?"
   ]
  },
  {
   "cell_type": "markdown",
   "id": "4f48c26e",
   "metadata": {},
   "source": [
    "Sometimes when I send it a code, it will always provide the advice of improving the code which I do not need. Also, the chatbot cannot read and analize pictures.In addition, it's hard for me to track previous code which i have sent several chats before, so I need to copy and paste every time I want to ask about the code again."
   ]
  },
  {
   "cell_type": "markdown",
   "id": "eb9164a9",
   "metadata": {},
   "source": [
    "3. Based on your experiences to date (e.g., including using ChatBots to troubleshoot coding errors in the previous homework), provide an overall assessment evaluating the usefulness of ChatBots as tools to help you understand code"
   ]
  },
  {
   "cell_type": "markdown",
   "id": "c6c0778b",
   "metadata": {},
   "source": [
    "Chatbots could overlook complex subjects or just offer basic knowledge. For a more thorough understanding or more detailed information, for me to go to further resources.A chatbot's effectiveness depends heavily on how well I articulate their questions. Miscommunication can lead to irrelevant or unhelpful responses."
   ]
  },
  {
   "cell_type": "markdown",
   "id": "bd703304",
   "metadata": {},
   "source": [
    "#### 7. Reflect on your experience interacting with ChatBot and describe how your perception of AI-driven assistance tools in the context of learning coding, statistics, and data science has been evolving (or not) since joining the course<br><br>"
   ]
  },
  {
   "cell_type": "markdown",
   "id": "705f29e2",
   "metadata": {},
   "source": [
    "My experience with AI-driven assistance tools has had a profound impact on my understanding and approach to learning coding, statistics, and data science as a student. The utilisation of AI tools has facilitated expedient access to information and the resolution of issues. \n",
    "\n",
    "To illustrate, when I encounter coding errors, I can promptly request assistance from a chatbot, obviating the need to invest time in online research. This immediacy has significantly enhanced my learning efficiency.Interacting with AI tools has facilitated a more comprehensive understanding of complex concepts through the provision of clear explanations and concrete code examples. They facilitate the decomposition of complex concepts into their constituent parts, thereby facilitating comprehension.\n",
    "\n",
    "To illustrate, while acquiring knowledge of statistical methodologies, AI tools have provided pertinent real-world applications, thereby facilitating a more comprehensive understanding of the underlying concepts.The utilization of AI tools has facilitated my inclination to engage in independent exploration and experimentation. I am at liberty to engage in experimentation without trepidation, cognizant that I may solicit assistance at any juncture. This sense of autonomy enhances my self-assurance and encourages me to confront challenges.Notwithstanding the assistance AI tools afford, I have also discerned their constraints. On occasion, the responses provided may lack sufficient depth or accuracy in addressing the specific questions posed. This underscores the importance of recognizing that while AI can facilitate decision-making, it is still necessary to rely on one's own critical thinking abilities and draw upon additional learning resources.\n",
    "\n",
    "The gradual enhancement of one's critical thinking skills through the use of AI tools has been a valuable learning experience. The understanding of the limitations of AI tools encourages a more active and discerning approach to information and suggestions. \n",
    "\n",
    "This has involved learning to sift through the information and analyze it, rather than accepting it uncritically.In general, AI-driven assistance tools are of great consequence to my learning process, enhancing both my efficiency and my comprehension.\n",
    "\n",
    "However, an awareness of their limitations enables me to engage more proactively and critically in my studies. In the future, I intend to continue utilising these resources to enhance my learning experience, while also integrating other materials to develop a more comprehensive skillset."
   ]
  },
  {
   "cell_type": "markdown",
   "id": "2ee8e14a",
   "metadata": {},
   "source": [
    "#### 8. ChatBots consume text data available on the web or platforms, and thus represents a new way to \"search consensensus\" that condenses and summarizes mainstream human thought<br><br>"
   ]
  },
  {
   "cell_type": "markdown",
   "id": "916c3dc1",
   "metadata": {},
   "source": [
    "1. Discussion on Skills Relevance\n",
    "In today’s job market, skills like learning and adaptability, communication, coding, and statistics/data analysis are incredibly valuable, particularly in fields like data science.\n",
    "\n",
    "Learning and Adaptability: The rapid pace of technological change means that being able to learn new tools and methodologies quickly is essential. Data scientists must stay current with evolving techniques and industry trends.\n",
    "\n",
    "Communication: Data scientists often need to present complex findings to stakeholders who may not have a technical background. Strong communication skills are critical for translating data insights into actionable business strategies.\n",
    "\n",
    "Coding: Proficiency in programming languages (like Python or R) is crucial for manipulating data, automating processes, and building models. While some aspects of data analysis can be done with software, coding allows for more flexibility and efficiency.\n",
    "\n",
    "Statistics and Data Analysis: A solid foundation in statistics is necessary for making informed decisions based on data. Understanding data analysis techniques helps in interpreting results accurately and ensuring valid conclusions.\n",
    "\n",
    "2. Career Exploration\n",
    "While one could theoretically be a statistician or data scientist without coding or data analysis skills, it would significantly limit the scope of the work. Coding and data analysis are foundational to the role, enabling practical application of statistical theories.\n",
    "\n",
    "For career exploration, it’s important to identify the specific skills required for your desired role. For instance:\n",
    "\n",
    "Technical Skills: Mastering programming languages, statistical methods, and data visualization tools.\n",
    "Soft Skills: Developing communication, teamwork, and problem-solving abilities.\n",
    "3. Summary of the Session\n",
    "This session discussed the relevance of learning, adaptability, communication, coding, and statistics/data analysis in the data science industry. It emphasized the importance of these skills for career opportunities and explored the necessity of coding and data analysis for roles like statistician or data scientist.\n",
    "\n",
    "4. Reflection on Potential Careers\n",
    "Reflecting on our conversation, I realize that building a career in data science or statistics requires a multifaceted skill set. I need to focus on improving my coding abilities and deepening my understanding of statistical methods. Additionally, enhancing my communication skills will be essential for conveying complex data insights effectively.\n",
    "\n",
    "5. Thoughts on ChatBot Helpfulness\n",
    "The ChatBot provided a helpful overview of the necessary skills and their relevance in the industry, but the information felt somewhat general. To delve deeper, I would consider seeking mentorship from professionals in the field or enrolling in specialized courses that provide hands-on experience. Additionally, attending industry conferences or networking events could offer insights from experts and help clarify my career path."
   ]
  },
  {
   "cell_type": "markdown",
   "id": "1a8494a4",
   "metadata": {},
   "source": [
    "#### 9. Have you reviewed the course [wiki-textbook](https://github.com/pointOfive/stat130chat130/wiki) and interacted with a ChatBot (or, if that wasn't sufficient, real people in the course piazza discussion board or TA office hours) to help you understand all the material in the tutorial and lecture that you didn't quite follow when you first saw it?<br><br>"
   ]
  },
  {
   "cell_type": "markdown",
   "id": "c29c2866",
   "metadata": {},
   "source": [
    "Yes"
   ]
  }
 ],
 "metadata": {
  "kernelspec": {
   "display_name": "Python 3 (ipykernel)",
   "language": "python",
   "name": "python3"
  },
  "language_info": {
   "codemirror_mode": {
    "name": "ipython",
    "version": 3
   },
   "file_extension": ".py",
   "mimetype": "text/x-python",
   "name": "python",
   "nbconvert_exporter": "python",
   "pygments_lexer": "ipython3",
   "version": "3.11.6"
  }
 },
 "nbformat": 4,
 "nbformat_minor": 5
}
